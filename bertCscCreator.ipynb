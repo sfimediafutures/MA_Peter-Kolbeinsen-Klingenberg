{
 "cells": [
  {
   "cell_type": "code",
   "execution_count": null,
   "metadata": {},
   "outputs": [],
   "source": [
    "from sentence_transformers import SentenceTransformer, util\n",
    "import csv\n",
    "import pandas as pd\n",
    "import numpy as np"
   ]
  },
  {
   "cell_type": "code",
   "execution_count": null,
   "metadata": {},
   "outputs": [],
   "source": [
    "DATASET = 'DatasetWtime'\n",
    "ARTICLE_CORE = f'{DATASET}/article_core.csv'"
   ]
  },
  {
   "cell_type": "code",
   "execution_count": null,
   "metadata": {},
   "outputs": [],
   "source": [
    "core = pd.read_csv(f'{ARTICLE_CORE}')"
   ]
  },
  {
   "cell_type": "code",
   "execution_count": null,
   "metadata": {},
   "outputs": [],
   "source": [
    "norwegianModel = SentenceTransformer('NbAiLab/nb-sbert-base')"
   ]
  },
  {
   "cell_type": "code",
   "execution_count": null,
   "metadata": {},
   "outputs": [],
   "source": [
    "sections_with_articles = {i:[] for i in list(set(core['section_title']))}"
   ]
  },
  {
   "cell_type": "code",
   "execution_count": null,
   "metadata": {},
   "outputs": [],
   "source": [
    "section_of_articles = {r['article_id']:r['section_title'] for i,r in core.iterrows()}"
   ]
  },
  {
   "cell_type": "code",
   "execution_count": null,
   "metadata": {},
   "outputs": [],
   "source": [
    "with open('../Embeddings/embeddings.csv','w',newline='') as file:\n",
    "    writer = csv.writer(file)\n",
    "\n",
    "    writer.writerow(['article_id','title','section','article_text_all','embedding'])\n",
    "\n",
    "    for index,row in core.iterrows():\n",
    "        article_id = row['article_id']\n",
    "        text = str(row['article_text_all']).replace('\\n','')\n",
    "        section = row['section_title']\n",
    "        title = row['article_title']\n",
    "        \n",
    "        if text == 'nan' or text == '' or text == ' ':\n",
    "            continue\n",
    "        \n",
    "        emb = list(norwegianModel.encode(text))\n",
    "        writer.writerow([article_id,title,section,text,emb])\n",
    "        print(f'{index}/{len(core)}')"
   ]
  }
 ],
 "metadata": {
  "language_info": {
   "name": "python"
  },
  "orig_nbformat": 4
 },
 "nbformat": 4,
 "nbformat_minor": 2
}
