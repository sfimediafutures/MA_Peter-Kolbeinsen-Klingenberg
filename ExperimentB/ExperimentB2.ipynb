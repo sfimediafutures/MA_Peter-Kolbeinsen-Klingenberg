{
 "cells": [
  {
   "cell_type": "code",
   "execution_count": null,
   "metadata": {},
   "outputs": [],
   "source": [
    "from implicit.cpu.als import AlternatingLeastSquares\n",
    "from implicit.cpu.bpr import BayesianPersonalizedRanking\n",
    "from implicit.cpu.lmf import LogisticMatrixFactorization\n",
    "from implicit.evaluation import precision_at_k,mean_average_precision_at_k\n",
    "import pandas as pd\n",
    "from sklearn.model_selection import train_test_split\n",
    "import numpy as np\n",
    "from scipy import sparse\n",
    "from datetime import datetime\n",
    "from datetime import timedelta\n",
    "from recometrics import split_reco_train_test,calc_reco_metrics\n",
    "from cmfrec import MostPopular"
   ]
  },
  {
   "cell_type": "code",
   "execution_count": null,
   "metadata": {},
   "outputs": [],
   "source": [
    "#CONSTANTS\n",
    "DATASET = 'DatasetsWtime'\n",
    "PULSE_RED = f'{DATASET}/pulse_red.csv'\n",
    "ARTICLE_CORE = f'{DATASET}/article_core.csv'"
   ]
  },
  {
   "cell_type": "code",
   "execution_count": null,
   "metadata": {},
   "outputs": [],
   "source": [
    "df_pulse_red = pd.read_csv(PULSE_RED, index_col=[0], low_memory=False)\n",
    "df_pulse_red.loc[df_pulse_red['views'] > 1, 'views'] = 1\n",
    "df_pulse_red"
   ]
  },
  {
   "attachments": {},
   "cell_type": "markdown",
   "metadata": {},
   "source": [
    "## FILTERS"
   ]
  },
  {
   "attachments": {},
   "cell_type": "markdown",
   "metadata": {},
   "source": [
    "### Remove direkte articles and article published outside timespan"
   ]
  },
  {
   "cell_type": "code",
   "execution_count": null,
   "metadata": {},
   "outputs": [],
   "source": [
    "df_article_core = pd.read_csv(ARTICLE_CORE)\n",
    "section_of_article = {row[\"article_id\"]: row[\"section_title\"] for index, row in df_article_core.iterrows()}\n",
    "direkte_articles = [row['article_id'] for index, row in df_article_core.iterrows() if row['section_title']=='Direkte']"
   ]
  },
  {
   "cell_type": "code",
   "execution_count": null,
   "metadata": {},
   "outputs": [],
   "source": [
    "article_id_to_keep = list(set(section_of_article.keys())-set(direkte_articles))"
   ]
  },
  {
   "cell_type": "code",
   "execution_count": null,
   "metadata": {},
   "outputs": [],
   "source": [
    "df_pulse_red_article_keep = df_pulse_red.loc[df_pulse_red['article_id'].isin(article_id_to_keep)]\n",
    "df_pulse_red_article_keep"
   ]
  },
  {
   "attachments": {},
   "cell_type": "markdown",
   "metadata": {},
   "source": [
    "### Remove environment ids (not registrered users)"
   ]
  },
  {
   "cell_type": "code",
   "execution_count": null,
   "metadata": {},
   "outputs": [],
   "source": [
    "spids_without_cookies = []\n",
    "for i in set(df_pulse_red_article_keep.spid):\n",
    "    if i.isdigit():\n",
    "        spids_without_cookies.append(i)\n"
   ]
  },
  {
   "cell_type": "code",
   "execution_count": null,
   "metadata": {},
   "outputs": [],
   "source": [
    "df_without_cookies = df_pulse_red_article_keep.loc[df_pulse_red_article_keep.spid.isin(spids_without_cookies)]\n",
    "df_without_cookies"
   ]
  },
  {
   "attachments": {},
   "cell_type": "markdown",
   "metadata": {},
   "source": [
    "### Remove articles read by only one user"
   ]
  },
  {
   "cell_type": "code",
   "execution_count": null,
   "metadata": {},
   "outputs": [],
   "source": [
    "article_reads = df_without_cookies.groupby(by='article_id')['views'].count().sort_values(ascending=False)\n",
    "article_reads"
   ]
  },
  {
   "cell_type": "code",
   "execution_count": null,
   "metadata": {},
   "outputs": [],
   "source": [
    "article_reads = df_without_cookies.groupby(by='article_id')['views'].count().sort_values(ascending=False)"
   ]
  },
  {
   "cell_type": "code",
   "execution_count": null,
   "metadata": {},
   "outputs": [],
   "source": [
    "articlestokeep = article_reads>=2\n",
    "articlestokeep = list(articlestokeep[articlestokeep].index)"
   ]
  },
  {
   "cell_type": "code",
   "execution_count": null,
   "metadata": {},
   "outputs": [],
   "source": [
    "df_min_article_reads = df_without_cookies.loc[df_without_cookies['article_id'].isin(articlestokeep)]"
   ]
  },
  {
   "attachments": {},
   "cell_type": "markdown",
   "metadata": {},
   "source": [
    "### Remove users that hasnt read one article per week"
   ]
  },
  {
   "cell_type": "code",
   "execution_count": null,
   "metadata": {},
   "outputs": [],
   "source": [
    "datetime_str = df_pulse_red['published_date'][0]"
   ]
  },
  {
   "cell_type": "code",
   "execution_count": null,
   "metadata": {},
   "outputs": [],
   "source": [
    "datetime_object = datetime.strptime(datetime_str, '%Y-%m-%d %H:%M:%S')"
   ]
  },
  {
   "cell_type": "code",
   "execution_count": null,
   "metadata": {},
   "outputs": [],
   "source": [
    "time_deltas = [datetime_object + timedelta(days=i) for i in range(7,57,7)]\n",
    "time_deltas"
   ]
  },
  {
   "cell_type": "code",
   "execution_count": null,
   "metadata": {},
   "outputs": [],
   "source": [
    "start = str(datetime_object)\n",
    "spids_to_keep = []\n",
    "for i,e in enumerate(time_deltas):\n",
    "    to = str(e)\n",
    "    temp_df = df_min_article_reads[df_min_article_reads['published_date'].between(start,to)]\n",
    "    temp_spids = set(temp_df['spid'])\n",
    "    if i == 0:\n",
    "        spids_to_keep = list(set(temp_df['spid']))\n",
    "    spids_to_keep = list(set(spids_to_keep) & set(temp_df['spid']))\n",
    "    if i != 7:\n",
    "        start = str(e)\n",
    "print(len(spids_to_keep))"
   ]
  },
  {
   "cell_type": "code",
   "execution_count": null,
   "metadata": {},
   "outputs": [],
   "source": [
    "df_pulse_red_one_article_per_week = df_min_article_reads.loc[df_min_article_reads['spid'].isin(spids_to_keep)]\n",
    "df_pulse_red_one_article_per_week"
   ]
  },
  {
   "attachments": {},
   "cell_type": "markdown",
   "metadata": {},
   "source": [
    "### Prep dataframe for training"
   ]
  },
  {
   "cell_type": "code",
   "execution_count": null,
   "metadata": {},
   "outputs": [],
   "source": [
    "df_pr = df_pulse_red_one_article_per_week.drop('published_date',axis=1)"
   ]
  },
  {
   "cell_type": "code",
   "execution_count": null,
   "metadata": {},
   "outputs": [],
   "source": [
    "df_pr = df_pr.reset_index().drop('index',axis=1)\n",
    "df_pr"
   ]
  },
  {
   "cell_type": "code",
   "execution_count": null,
   "metadata": {},
   "outputs": [],
   "source": [
    "df_pr = df_pr.loc[(df_pr.spid.notnull()) & (df_pr.article_id.notnull())]\n",
    "df_pr['spid'] = df_pr['spid'].astype('category')\n",
    "df_pr['article_id'] = df_pr['article_id'].astype('category')\n",
    "df_pr.head(5)"
   ]
  },
  {
   "attachments": {},
   "cell_type": "markdown",
   "metadata": {},
   "source": [
    "### Train test split"
   ]
  },
  {
   "cell_type": "code",
   "execution_count": null,
   "metadata": {},
   "outputs": [],
   "source": [
    "from scipy.sparse import coo_matrix\n",
    "X = coo_matrix((df_pr.views, (df_pr.spid.cat.codes, df_pr.article_id.cat.codes)))\n",
    "X"
   ]
  },
  {
   "cell_type": "code",
   "execution_count": null,
   "metadata": {},
   "outputs": [],
   "source": [
    "X_fit_reco, X_train_reco, X_test_reco, test_users_reco = \\\n",
    "    split_reco_train_test(\n",
    "        X, split_type=\"separated\",\n",
    "        users_test_fraction = 0.2,\n",
    "        max_test_users=20000,\n",
    "    )"
   ]
  },
  {
   "cell_type": "code",
   "execution_count": null,
   "metadata": {},
   "outputs": [],
   "source": [
    "def evaluation_of_sets(fit_set,train_set,test_set):\n",
    "    rng = np.random.default_rng(seed=1)\n",
    "    UserFactors_random = rng.standard_normal(size=(test_set.shape[0], 5))\n",
    "    ItemFactors_random = rng.standard_normal(size=(test_set.shape[1], 5))\n",
    "\n",
    "    ### Non-personalized recommendations\n",
    "    model_baseline = MostPopular(implicit=True, user_bias=False).fit(fit_set)\n",
    "    item_biases = model_baseline.item_bias_\n",
    "    item_biases\n",
    "\n",
    "    ALSmodel = AlternatingLeastSquares()\n",
    "    BPRmodel = BayesianPersonalizedRanking()\n",
    "    LMFmodel = LogisticMatrixFactorization()\n",
    "\n",
    "    ALSmodel.fit(fit_set)\n",
    "    BPRmodel.fit(fit_set)\n",
    "    LMFmodel.fit(fit_set)\n",
    "\n",
    "    \n",
    "    k=5\n",
    "    metrics_random = calc_reco_metrics(\n",
    "        train_set[:test_set.shape[0]], test_set,\n",
    "        UserFactors_random, ItemFactors_random,\n",
    "        k=k, all_metrics=True\n",
    "    )\n",
    "   \n",
    "\n",
    "    metrics_baseline = calc_reco_metrics(\n",
    "        train_set[:test_set.shape[0]], test_set,\n",
    "        None, None, item_biases=item_biases,\n",
    "        k=k, all_metrics=True\n",
    "    )\n",
    "\n",
    "    metrics_als = calc_reco_metrics(\n",
    "        train_set[:test_set.shape[0]], test_set,\n",
    "        ALSmodel.user_factors[:test_set.shape[0]], ALSmodel.item_factors,\n",
    "        k=k, all_metrics=True\n",
    "    )\n",
    "\n",
    "    metrics_bpr = calc_reco_metrics(\n",
    "        train_set[:test_set.shape[0]], test_set,\n",
    "        BPRmodel.user_factors[:test_set.shape[0]], BPRmodel.item_factors,\n",
    "        k=k, all_metrics=True\n",
    "    )\n",
    "\n",
    "    metrics_lmf = calc_reco_metrics(\n",
    "        train_set[:test_set.shape[0]], test_set,\n",
    "        LMFmodel.user_factors[:test_set.shape[0]], LMFmodel.item_factors,\n",
    "        k=k, all_metrics=True\n",
    "    )\n",
    "\n",
    "    all_metrics = [\n",
    "    metrics_random,\n",
    "    metrics_baseline,\n",
    "    metrics_als,\n",
    "    metrics_bpr,\n",
    "    metrics_lmf\n",
    "    ]\n",
    "    all_metrics = pd.concat([m.mean(axis=0).to_frame().T for m in all_metrics], axis=0)\n",
    "    all_metrics.index = [\n",
    "        \"Random\",\n",
    "        \"Most Popular\",\n",
    "        \"ALS\",\n",
    "        \"BPR\",\n",
    "        \"LMF\"\n",
    "    ]\n",
    "\n",
    "    parameters = {\n",
    "        'ALSfactors': ALSmodel.factors,\n",
    "        'ALSiterations': ALSmodel.iterations,\n",
    "        'ALSregularizations': ALSmodel.regularization,\n",
    "        'BPRfactors': BPRmodel.factors,\n",
    "        'BPRiterations': BPRmodel.iterations,\n",
    "        'BPRregularizations': BPRmodel.regularization,\n",
    "        'BPRlearningrate': BPRmodel.learning_rate,\n",
    "        'LMFfactors': LMFmodel.factors,\n",
    "        'LMFiterations': LMFmodel.iterations,\n",
    "        'LMFregularizations': LMFmodel.regularization,\n",
    "        'LMFlearningrate': LMFmodel.learning_rate\n",
    "    }\n",
    "\n",
    "    return all_metrics,parameters"
   ]
  },
  {
   "cell_type": "code",
   "execution_count": null,
   "metadata": {},
   "outputs": [],
   "source": [
    "results = evaluation_of_sets(X_fit_reco,X_train_reco,X_test_reco)\n",
    "results[0].to_csv('../Results/experiment_b2.csv')"
   ]
  },
  {
   "cell_type": "code",
   "execution_count": null,
   "metadata": {},
   "outputs": [],
   "source": [
    "results[1] #hyperparameters used"
   ]
  }
 ],
 "metadata": {
  "language_info": {
   "name": "python"
  },
  "orig_nbformat": 4
 },
 "nbformat": 4,
 "nbformat_minor": 2
}
