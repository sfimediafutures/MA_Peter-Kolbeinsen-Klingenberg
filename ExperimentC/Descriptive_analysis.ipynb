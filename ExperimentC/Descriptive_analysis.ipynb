{
 "cells": [
  {
   "cell_type": "code",
   "execution_count": null,
   "metadata": {},
   "outputs": [],
   "source": [
    "import pandas as pd"
   ]
  },
  {
   "cell_type": "code",
   "execution_count": null,
   "metadata": {},
   "outputs": [],
   "source": [
    "ab_results = pd.read_csv('../AB-test/A_B test_results_v2.csv')"
   ]
  },
  {
   "cell_type": "code",
   "execution_count": null,
   "metadata": {},
   "outputs": [],
   "source": [
    "from datetime import datetime\n",
    "clicksPerDay = {}\n",
    "datelist = pd.date_range(min(ab_results['DATE']), periods = 14)\n",
    "\n",
    "for i in datelist:\n",
    "    date = str(i).split(' ')[0]\n",
    "    date_df = ab_results[ab_results.DATE == date]\n",
    "    relatedArticleABtestcount = date_df[date_df.CONTENTID == '\"related-articles-abtest\"']\n",
    "    recommenderABtestcount = date_df[date_df.CONTENTID == '\"recommender-abtest\"']\n",
    "    clicksPerDay[date] = {'related-articles-abtest': len(relatedArticleABtestcount), 'recommender-abtest': len(recommenderABtestcount)}\n",
    "\n",
    "date_li = [str(i).split(' ')[0] for i in list(datelist)]\n",
    "ab_results = ab_results[ab_results.DATE.isin(date_li)]"
   ]
  },
  {
   "cell_type": "code",
   "execution_count": null,
   "metadata": {},
   "outputs": [],
   "source": [
    "dates = [i[-8:] for i in clicksPerDay.keys()]\n",
    "X_coordinates = [i for i in range(len(clicksPerDay.keys()))]\n",
    "Y_coordinates_realted = [v.get('related-articles-abtest') for k,v in clicksPerDay.items()]\n",
    "Y_coordinates_recommender = [v.get('recommender-abtest') for k,v in clicksPerDay.items()]"
   ]
  },
  {
   "cell_type": "code",
   "execution_count": null,
   "metadata": {},
   "outputs": [],
   "source": [
    "percentage = (sum(Y_coordinates_recommender)-sum(Y_coordinates_realted))/sum(Y_coordinates_realted)\n",
    "print(f'The A/B test shows that the method using NB-SBERT-BASE has {round(percentage*100,2)}% more clicks rather than the more generic recommender based on tags')"
   ]
  },
  {
   "cell_type": "code",
   "execution_count": null,
   "metadata": {},
   "outputs": [],
   "source": [
    "import matplotlib.pyplot as plt\n",
    "fig, ax = plt.subplots(figsize=(16, 8))\n",
    "\n",
    "vals_to_percentage = [i for i in range(len(dates))]\n",
    "ax.plot(dates, Y_coordinates_recommender, label='Bert Recommender (new)')\n",
    "ax.plot(dates, Y_coordinates_realted, label='Generic tags recommender (former)')\n",
    "\n",
    "ax.set_xlabel('Dates')\n",
    "ax.set_ylabel('Clicks')\n",
    "ax.set_ylim([0,1850])\n",
    "\n",
    "ax.legend()\n",
    "\n",
    "for i in range(len(dates)):\n",
    "    x = vals_to_percentage[i]\n",
    "    y1 = Y_coordinates_recommender[i]\n",
    "    y2 = Y_coordinates_realted[i]\n",
    "    diff = ((y1 - y2) / y2) * 100\n",
    "    ax.plot([x, x], [y1, y2], alpha=0.5, color='gray', linestyle='--', linewidth=1.5, zorder=1)\n",
    "    ax.annotate(f'{diff:.1f}%', xy=(x, (y1 + y2) / 2), xytext=(x + 0.2, (y1 + y2) / 2),\n",
    "                arrowprops=dict(arrowstyle='->', connectionstyle=\"arc3\", alpha=0.5), ha='left', va='center', zorder=2)\n",
    "#plt.savefig('ab_test_general.png', format='png', dpi=200,bbox_inches='tight')\n",
    "plt.show()"
   ]
  },
  {
   "cell_type": "code",
   "execution_count": null,
   "metadata": {},
   "outputs": [],
   "source": [
    "BERTtotalClicks = len(ab_results[ab_results.CONTENTID == '\"recommender-abtest\"'])\n",
    "TagstotalClicks = len(ab_results[ab_results.CONTENTID == '\"related-articles-abtest\"'])"
   ]
  },
  {
   "attachments": {},
   "cell_type": "markdown",
   "metadata": {},
   "source": [
    "### CTR"
   ]
  },
  {
   "cell_type": "code",
   "execution_count": null,
   "metadata": {},
   "outputs": [],
   "source": [
    "#Dataframe of number of how many users how have seen the A-B test recommendation widget\n",
    "totalViews = pd.read_csv('AB-test/total_views_per_day_v2.csv')\n",
    "totalViews"
   ]
  },
  {
   "cell_type": "code",
   "execution_count": null,
   "metadata": {},
   "outputs": [],
   "source": [
    "dates_views = [i[-8:] for i in totalViews['DATE']]\n",
    "X_coordinates_views = [i for i in range(len(totalViews['DATE']))]\n",
    "Y_coordinates_views = totalViews['TOTAL_VIEWS']"
   ]
  },
  {
   "cell_type": "code",
   "execution_count": null,
   "metadata": {},
   "outputs": [],
   "source": [
    "import matplotlib.pyplot as plt\n",
    "fig, ax = plt.subplots(figsize=(16, 8))\n",
    "\n",
    "ax.plot(dates_views, Y_coordinates_views, label='Total views')\n",
    "ax.set_xlabel('Dates')\n",
    "ax.set_ylabel('Views')\n",
    "ax.set_ylim([0,41000])\n",
    "ax.legend()\n",
    "\n",
    "#plt.savefig('ab_test_views.png', format='png', dpi=200,bbox_inches='tight')\n",
    "plt.show()"
   ]
  },
  {
   "cell_type": "code",
   "execution_count": null,
   "metadata": {},
   "outputs": [],
   "source": [
    "viewsPerDay = {r.DATE : r.TOTAL_VIEWS/2 for i,r in totalViews.iterrows()}"
   ]
  },
  {
   "cell_type": "code",
   "execution_count": null,
   "metadata": {},
   "outputs": [],
   "source": [
    "y_coordinates_ctr_tags = []\n",
    "y_coordinates_ctr_bert = []\n",
    "\n",
    "for k,v in clicksPerDay.items():\n",
    "    temp_ctr_tags = (v.get('related-articles-abtest')/viewsPerDay.get(k))*100\n",
    "    y_coordinates_ctr_tags.append(temp_ctr_tags)\n",
    "    temp_ctr_bert = (v.get('recommender-abtest')/viewsPerDay.get(k))*100\n",
    "    y_coordinates_ctr_bert.append(temp_ctr_bert)"
   ]
  },
  {
   "cell_type": "code",
   "execution_count": null,
   "metadata": {},
   "outputs": [],
   "source": [
    "import matplotlib.pyplot as plt\n",
    "fig, ax = plt.subplots(figsize=(16, 8))\n",
    "\n",
    "vals_to_percentage = [i for i in range(len(dates_views))]\n",
    "ax.plot(dates_views, y_coordinates_ctr_bert, label='Bert Recommender (new)')\n",
    "ax.plot(dates_views, y_coordinates_ctr_tags, label='Generic tags recommender (former)')\n",
    "#ax.plot(dates, Y_coordinates_realted, label='Generic tags recommender (former)')\n",
    "\n",
    "ax.set_xlabel('Dates')\n",
    "ax.set_ylabel('CTR (%)')\n",
    "\n",
    "ax.set_ylim([0,11.5])\n",
    "\n",
    "ax.legend()\n",
    "\n",
    "for i in range(len(dates)):\n",
    "    x = vals_to_percentage[i]\n",
    "    y1 = y_coordinates_ctr_bert[i]\n",
    "    y2 = y_coordinates_ctr_tags[i]\n",
    "    diff = ((y1 - y2) / y2) * 100\n",
    "    ax.plot([x, x], [y1, y2], alpha=0.5, color='gray', linestyle='--', linewidth=1.5, zorder=1)\n",
    "    ax.annotate(f'{diff:.1f}%', xy=(x, (y1 + y2) / 2), xytext=(x + 0.2, (y1 + y2) / 2),\n",
    "                arrowprops=dict(arrowstyle='->', connectionstyle=\"arc3\", alpha=0.5), ha='left', va='center', zorder=2)\n",
    "#plt.savefig('ab_test_ctr.png', format='png', dpi=200,bbox_inches='tight')\n",
    "plt.show()"
   ]
  },
  {
   "attachments": {},
   "cell_type": "markdown",
   "metadata": {},
   "source": [
    "### Gender and Age figures"
   ]
  },
  {
   "attachments": {},
   "cell_type": "markdown",
   "metadata": {},
   "source": [
    "### BERT and Tags on gender in subplots figure"
   ]
  },
  {
   "cell_type": "code",
   "execution_count": null,
   "metadata": {},
   "outputs": [],
   "source": [
    "df_bertModel = ab_results[ab_results.CONTENTID == '\"recommender-abtest\"']\n",
    "df_tagModel = ab_results[ab_results.CONTENTID == '\"related-articles-abtest\"']\n",
    "# Specifies on SEX\n",
    "bertFemale = df_bertModel[df_bertModel.SEX == 'F']\n",
    "bertMale = df_bertModel[df_bertModel.SEX == 'M']\n",
    "bertUnspecified = df_bertModel[df_bertModel.SEX == 'Unspecified']\n",
    "tagFemale = df_tagModel[df_tagModel.SEX == 'F']\n",
    "tagMale = df_tagModel[df_tagModel.SEX == 'M']\n",
    "tagUnspecified = df_tagModel[df_tagModel.SEX == 'Unspecified']"
   ]
  },
  {
   "cell_type": "code",
   "execution_count": null,
   "metadata": {},
   "outputs": [],
   "source": [
    "BERTgenderValues = [len(bertFemale),len(bertMale),len(bertUnspecified)]\n",
    "BERTgenderLabels = ['Female','Male','Unknown']\n",
    "TaggenderValues = [len(tagFemale),len(tagMale),len(tagUnspecified)]\n",
    "TaggenderLabels = ['Female','Male','Unknown']"
   ]
  },
  {
   "cell_type": "code",
   "execution_count": null,
   "metadata": {},
   "outputs": [],
   "source": [
    "fig, (ax1, ax2) = plt.subplots(nrows=1, ncols=2, figsize=(10, 5))\n",
    "\n",
    "wedges1, _ = ax1.pie(BERTgenderValues, labels=None, startangle=90)\n",
    "ax1.set_title('BERT on gender')\n",
    "\n",
    "labels_with_data1 = [f'{label} ({size}, {size/sum(BERTgenderValues)*100:.1f}%)' for label, size in zip(BERTgenderLabels, BERTgenderValues)]\n",
    "\n",
    "ax1.legend(wedges1, labels_with_data1, title='Gender (Count, Percentage)', loc='lower center')\n",
    "\n",
    "wedges2, _ = ax2.pie(TaggenderValues, labels=None, startangle=90)\n",
    "ax2.set_title('Tags on gender')\n",
    "\n",
    "labels_with_data2 = [f'{label} ({size}, {size/sum(TaggenderValues)*100:.1f}%)' for label, size in zip(TaggenderLabels, TaggenderValues)]\n",
    "\n",
    "ax2.legend(wedges2, labels_with_data2, title='Gender (Count, Percentage)', loc='lower center')\n",
    "\n",
    "fig.subplots_adjust(wspace=0.005, bottom=0.005)\n",
    "\n",
    "#plt.savefig('../Figures_ab/ab_test_gender.png', format='png', dpi=200,bbox_inches='tight')\n",
    "plt.show()"
   ]
  },
  {
   "attachments": {},
   "cell_type": "markdown",
   "metadata": {},
   "source": [
    "### BERT and Tags on age in subplots figure"
   ]
  },
  {
   "cell_type": "code",
   "execution_count": null,
   "metadata": {},
   "outputs": [],
   "source": [
    "age = 45\n",
    "bertOver45 = df_bertModel[df_bertModel.AGE > age]\n",
    "bertUnder45 = df_bertModel[df_bertModel.AGE <= age]\n",
    "bertNone = df_bertModel[df_bertModel.AGE.isna()]\n",
    "tagOver45 = df_tagModel[df_tagModel.AGE > age]\n",
    "tagUnder45 = df_tagModel[df_tagModel.AGE <= age]\n",
    "tagNone = df_tagModel[df_tagModel.AGE.isna()]"
   ]
  },
  {
   "cell_type": "code",
   "execution_count": null,
   "metadata": {},
   "outputs": [],
   "source": [
    "BERTageValues = [len(bertOver45),len(bertUnder45),len(bertNone)]\n",
    "BERTageLabels = [f'Age > {age}',f'Age <= {age}',f'Age = Unknown']\n",
    "TagsageValues = [len(tagOver45),len(tagUnder45),len(tagNone)]\n",
    "TagsageLabels = [f'Age > {age}',f'Age <= {age}',f'Age = Unknown']"
   ]
  },
  {
   "cell_type": "code",
   "execution_count": null,
   "metadata": {},
   "outputs": [],
   "source": [
    "fig, (ax1, ax2) = plt.subplots(nrows=1, ncols=2, figsize=(10, 5))\n",
    "\n",
    "wedges1, _ = ax1.pie(BERTageValues, labels=None, startangle=90)\n",
    "ax1.set_title('BERT on age')\n",
    "\n",
    "labels_with_data1 = [f'{label} ({size}, {size/sum(BERTageValues)*100:.1f}%)' for label, size in zip(BERTageLabels, BERTageValues)]\n",
    "\n",
    "ax1.legend(wedges1, labels_with_data1, title='Age (Count, Percentage)', loc='lower center')\n",
    "\n",
    "wedges2, _ = ax2.pie(TagsageValues, labels=None, startangle=90)\n",
    "ax2.set_title('Tags on age')\n",
    "\n",
    "labels_with_data2 = [f'{label} ({size}, {size/sum(TagsageValues)*100:.1f}%)' for label, size in zip(TagsageLabels, TagsageValues)]\n",
    "\n",
    "ax2.legend(wedges2, labels_with_data2, title='Age (Count, Percentage)', loc='lower center')\n",
    "\n",
    "fig.subplots_adjust(wspace=0.005, bottom=0.005)\n",
    "\n",
    "#plt.savefig('../Figures_ab/ab_test_age.png', format='png', dpi=200,bbox_inches='tight')\n",
    "plt.show()"
   ]
  }
 ],
 "metadata": {
  "language_info": {
   "name": "python"
  },
  "orig_nbformat": 4
 },
 "nbformat": 4,
 "nbformat_minor": 2
}
