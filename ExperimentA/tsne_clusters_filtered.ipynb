{
 "cells": [
  {
   "cell_type": "code",
   "execution_count": null,
   "metadata": {},
   "outputs": [],
   "source": [
    "import numpy as np\n",
    "from sklearn.manifold import TSNE\n",
    "import matplotlib.pyplot as plt\n",
    "import pandas as pd"
   ]
  },
  {
   "cell_type": "code",
   "execution_count": null,
   "metadata": {},
   "outputs": [],
   "source": [
    "DATASET = 'DatasetsWtime'\n",
    "ARTICLE_CORE = f'{DATASET}/article_core.csv'"
   ]
  },
  {
   "cell_type": "code",
   "execution_count": null,
   "metadata": {},
   "outputs": [],
   "source": [
    "core = pd.read_csv(f'{ARTICLE_CORE}')"
   ]
  },
  {
   "cell_type": "code",
   "execution_count": null,
   "metadata": {},
   "outputs": [],
   "source": [
    "df_embeddings = pd.read_csv('Embeddings/embeddings.csv')\n",
    "df_embeddings"
   ]
  },
  {
   "cell_type": "code",
   "execution_count": null,
   "metadata": {},
   "outputs": [],
   "source": [
    "def convert_to_nd_array(sequence):\n",
    "    sequence = sequence.replace('[','')\n",
    "    sequence = sequence.replace(']','')\n",
    "    sequence = sequence.replace(' ','')\n",
    "    sequence = sequence.replace('\\n','')\n",
    "    sequence= sequence.split(',')\n",
    "    float_li = [float(i) for i in sequence]\n",
    "    return np.array(float_li)"
   ]
  },
  {
   "cell_type": "code",
   "execution_count": null,
   "metadata": {},
   "outputs": [],
   "source": [
    "df_embeddings['embedding'] = df_embeddings['embedding'].apply(lambda x: convert_to_nd_array(x))"
   ]
  },
  {
   "cell_type": "code",
   "execution_count": null,
   "metadata": {},
   "outputs": [],
   "source": [
    "exclude_sections = ['Bedriftsroboten','Bolig','Boligsalg','Direkte','Hyttesalg']\n",
    "include = list(set(df_embeddings.section)-set(exclude_sections))\n",
    "df_embeddings = df_embeddings[df_embeddings['section'].isin(include)]"
   ]
  },
  {
   "cell_type": "code",
   "execution_count": null,
   "metadata": {},
   "outputs": [],
   "source": [
    "embeddings = np.array([i for i in df_embeddings['embedding']])"
   ]
  },
  {
   "cell_type": "code",
   "execution_count": null,
   "metadata": {},
   "outputs": [],
   "source": [
    "tsne = TSNE(n_components=2,perplexity=len(df_embeddings.article_id)/100,learning_rate=len(df_embeddings.article_id)/12,early_exaggeration=1)\n",
    "embeddings_tsne = tsne.fit_transform(embeddings)"
   ]
  },
  {
   "cell_type": "code",
   "execution_count": null,
   "metadata": {},
   "outputs": [],
   "source": [
    "colors_by_section= {'A-Magasinet': (0.8087954113106306, 0.5634700050056693, 0.19502642696727285),\n",
    " 'BT Magasinet': (0.9656056642634557, 0.4245907603266889, 0.6579786740552919),\n",
    " 'Bedriftsroboten': (0.22335772267769388,\n",
    "  0.6565792317435265,\n",
    "  0.8171355503265633),\n",
    " 'Bil': (0.4768773964929644, 0.5974418160509446, 0.9584992622400258),\n",
    " 'Bolig': (0.49382662140640926, 0.6649121332643736, 0.19300804648700284),\n",
    " 'Boligsalg': (0.6423044349219739, 0.5497680051256467, 0.9582651433656727),\n",
    " 'Debatt': (0.5920891529639701, 0.6418467016378244, 0.1935069134991043),\n",
    " 'Digital': (0.9699521567340649, 0.4569882390259858, 0.36385324448493633),\n",
    " 'Familie og oppvekst': (0.20703735729643508,\n",
    "  0.6824290013722435,\n",
    "  0.5885318893529169),\n",
    " 'Fotball': (0.9633321742064956, 0.40643825645731757, 0.7592537599568671),\n",
    " 'Hyttesalg': (0.21044753832183283, 0.6773105080456748, 0.6433941168468681),\n",
    " 'Innenriks': (0.21786710662428366, 0.6656671601322255, 0.7482809385065813),\n",
    " 'Karriere': (0.9082572436765556, 0.40195790729656516, 0.9576909250290225),\n",
    " 'Kommentar': (0.20312757197899856, 0.6881249249803418, 0.5177618167447304),\n",
    " 'Kultur': (0.3126890019504329, 0.6928754610296064, 0.1923704830330379),\n",
    " 'Leder': (0.7350228985632719, 0.5952719904750953, 0.1944419133847522),\n",
    " 'Lokalt': (0.19783576093349015, 0.6955516966063037, 0.3995301037444499),\n",
    " 'Minneord': (0.6666319352625271, 0.6197366714155128, 0.19396267878823373),\n",
    " 'Nyheter': (0.9603888539940703, 0.3814317878772117, 0.8683117650835491),\n",
    " 'Reise': (0.9677975592919913, 0.44127456009157356, 0.5358103155058701),\n",
    " 'Sport': (0.903599057664843, 0.511987276335809, 0.19588350060161624),\n",
    " 'Sprek': (0.21387918628643265, 0.6720135434784761, 0.693961140878689),\n",
    " 'Utenriks': (0.23299120924703914, 0.639586552066035, 0.9260706093977744),\n",
    " 'Økonomi': (0.774710828527837, 0.49133823414365724, 0.9580114121137316)}"
   ]
  },
  {
   "cell_type": "code",
   "execution_count": null,
   "metadata": {},
   "outputs": [],
   "source": [
    "marker_by_section= {'A-Magasinet': 'v',\n",
    " 'BT Magasinet': '*',\n",
    " 'Bedriftsroboten': 'v',\n",
    " 'Bil': '.',\n",
    " 'Bolig': 'x',\n",
    " 'Boligsalg': 'v',\n",
    " 'Debatt': 'v',\n",
    " 'Digital': 'x',\n",
    " 'Familie og oppvekst': 'x',\n",
    " 'Fotball': '.',\n",
    " 'Hyttesalg': 'v',\n",
    " 'Innenriks': 'x',\n",
    " 'Karriere': 'v',\n",
    " 'Kommentar': '*',\n",
    " 'Kultur': '+',\n",
    " 'Leder': '+',\n",
    " 'Lokalt': '.',\n",
    " 'Minneord': '^',\n",
    " 'Nyheter': '.',\n",
    " 'Reise': 'v',\n",
    " 'Sport': '+',\n",
    " 'Sprek': 'v',\n",
    " 'Utenriks': '*',\n",
    " 'Økonomi': '+'}"
   ]
  },
  {
   "cell_type": "code",
   "execution_count": null,
   "metadata": {},
   "outputs": [],
   "source": [
    "for key in exclude_sections:\n",
    "    if key in colors_by_section:\n",
    "        del colors_by_section[key]\n",
    "    if key in marker_by_section:\n",
    "        del marker_by_section[key]"
   ]
  },
  {
   "cell_type": "code",
   "execution_count": null,
   "metadata": {},
   "outputs": [],
   "source": [
    "new_emb_df = pd.DataFrame()\n",
    "new_emb_df['article_id'] = df_embeddings['article_id']\n",
    "new_emb_df['title'] = df_embeddings['title']\n",
    "new_emb_df['section'] = df_embeddings['section']\n",
    "#new_emb_df['keyword'] = df_embeddings['keyword']\n",
    "new_emb_df['x'] = embeddings_tsne[:,0]\n",
    "new_emb_df['y'] = embeddings_tsne[:,1]\n",
    "new_emb_df['color'] = new_emb_df['section'].map(colors_by_section)\n",
    "new_emb_df['marker'] = new_emb_df['section'].map(marker_by_section)"
   ]
  },
  {
   "cell_type": "code",
   "execution_count": null,
   "metadata": {},
   "outputs": [],
   "source": [
    "new_emb_df"
   ]
  },
  {
   "cell_type": "code",
   "execution_count": null,
   "metadata": {},
   "outputs": [],
   "source": [
    "from matplotlib.lines import Line2D\n",
    "x_vals = list(new_emb_df['x'])\n",
    "y_vals = list(new_emb_df['y'])\n",
    "color_sequence = list(new_emb_df['color'])\n",
    "marker_vals = list(new_emb_df['marker'])\n",
    "plt.figure(figsize=(25, 15))\n",
    "\n",
    "marker_and_color = []\n",
    "section_name = []\n",
    "for name,rgb_c in colors_by_section.items():\n",
    "    marker_and_color.append(Line2D([], [], marker=marker_by_section.get(name), markersize=10, color=rgb_c, linestyle='None'))\n",
    "    section_name.append(name)\n",
    "\n",
    "for i in range(len(x_vals)):\n",
    "    plt.scatter(x_vals[i],y_vals[i],color=color_sequence[i],marker=marker_vals[i])\n",
    "\n",
    "plt.legend(marker_and_color, section_name, loc='lower left', fontsize=13)\n",
    "#plt.savefig('../Figures_tSNE/tsne_filtered_new_fs_13.png', format='png', dpi=200,bbox_inches='tight')\n",
    "plt.show()"
   ]
  }
 ],
 "metadata": {
  "language_info": {
   "name": "python"
  },
  "orig_nbformat": 4
 },
 "nbformat": 4,
 "nbformat_minor": 2
}
