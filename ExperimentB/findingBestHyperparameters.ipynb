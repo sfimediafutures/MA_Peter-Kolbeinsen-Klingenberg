{
 "cells": [
  {
   "cell_type": "code",
   "execution_count": null,
   "metadata": {},
   "outputs": [],
   "source": [
    "import pandas as pd"
   ]
  },
  {
   "cell_type": "code",
   "execution_count": null,
   "metadata": {},
   "outputs": [],
   "source": [
    "def getDataset(path):\n",
    "    scores = pd.read_csv(path)\n",
    "    return scores"
   ]
  },
  {
   "cell_type": "code",
   "execution_count": null,
   "metadata": {},
   "outputs": [],
   "source": [
    "def getbestHyperparameters(dataframe,n):\n",
    "    top_indices = dataframe.nlargest(n, 'P@5')['P@5'].index\n",
    "    return dataframe.iloc[top_indices]"
   ]
  },
  {
   "cell_type": "code",
   "execution_count": null,
   "metadata": {},
   "outputs": [],
   "source": [
    "def createLatexTextHyperparams_ALS(df):\n",
    "    valuesToCollect = ['factor','iteration','regularization','P@5','R@5','TAP@5','NDCG@5','ROC_AUC','PR_AUC']\n",
    "    text = ''\n",
    "    for i in range(len(df)):\n",
    "        line = df.iloc[i]\n",
    "        for w,j in enumerate(valuesToCollect):\n",
    "            if w == 0:\n",
    "                text += f'{str(line[j])[0:6]} '\n",
    "            else:\n",
    "                text += f'& {str(line[j])[0:6]} '\n",
    "        if i != len(df)-1:\n",
    "            text+='\\\\\\ \\n'\n",
    "        else: text+='\\\\\\ '\n",
    "    text += '\\hline'\n",
    "    return text"
   ]
  },
  {
   "cell_type": "code",
   "execution_count": null,
   "metadata": {},
   "outputs": [],
   "source": [
    "def createLatexTextHyperparams_BPR_LMF(df):\n",
    "    valuesToCollect = ['factor','iteration','regularization','learning_rate','P@5','R@5','TAP@5','NDCG@5','ROC_AUC','PR_AUC']\n",
    "    text = ''\n",
    "    for i in range(len(df)):\n",
    "        line = df.iloc[i]\n",
    "        for w,j in enumerate(valuesToCollect):\n",
    "            if w == 0:\n",
    "                text += f'{str(line[j])[0:6]} '\n",
    "            else:\n",
    "                text += f'& {str(line[j])[0:6]} '\n",
    "        if i != len(df)-1:\n",
    "            text+='\\\\\\ \\n'\n",
    "        else: text+='\\\\\\ '\n",
    "    text += '\\hline'\n",
    "    return text"
   ]
  },
  {
   "cell_type": "code",
   "execution_count": null,
   "metadata": {},
   "outputs": [],
   "source": [
    "alsScores = getDataset('../Results/ALS_hyper.csv')\n",
    "getbestHyperparameters(alsScores,5)"
   ]
  },
  {
   "cell_type": "code",
   "execution_count": null,
   "metadata": {},
   "outputs": [],
   "source": [
    "print(createLatexTextHyperparams_ALS(getbestHyperparameters(alsScores,5)))"
   ]
  },
  {
   "cell_type": "code",
   "execution_count": null,
   "metadata": {},
   "outputs": [],
   "source": [
    "bprScores = getDataset('../Results/BPR_hyper.csv')\n",
    "getbestHyperparameters(bprScores,5)"
   ]
  },
  {
   "cell_type": "code",
   "execution_count": null,
   "metadata": {},
   "outputs": [],
   "source": [
    "print(createLatexTextHyperparams_BPR_LMF(getbestHyperparameters(bprScores,5)))"
   ]
  },
  {
   "cell_type": "code",
   "execution_count": null,
   "metadata": {},
   "outputs": [],
   "source": [
    "lmfScores = getDataset('../Results/LMF_hyper.csv')\n",
    "getbestHyperparameters(lmfScores,5)"
   ]
  },
  {
   "cell_type": "code",
   "execution_count": null,
   "metadata": {},
   "outputs": [],
   "source": [
    "print(createLatexTextHyperparams_BPR_LMF(getbestHyperparameters(lmfScores,5)))"
   ]
  },
  {
   "attachments": {},
   "cell_type": "markdown",
   "metadata": {},
   "source": [
    "### Boxplots"
   ]
  },
  {
   "cell_type": "code",
   "execution_count": null,
   "metadata": {},
   "outputs": [],
   "source": [
    "import matplotlib.pyplot as plt\n",
    "fig1, axs1 = plt.subplots(1, 3, figsize=(12, 7))\n",
    "valueToCollect = 'P@5'\n",
    "verdier = [alsScores[valueToCollect],bprScores[valueToCollect],lmfScores[valueToCollect]]\n",
    "navn = ['ALS', 'BPR', 'LMF']\n",
    "for index, ax in enumerate(axs1):\n",
    "    ax.boxplot(verdier[index])\n",
    "    ax.set_xlabel(f'{navn[index]}')\n",
    "    ax.set_xticklabels([])\n",
    "    ax.set_ylim([0,0.3])\n",
    "    ax.set_ylabel(valueToCollect)\n",
    "\n",
    "fig1.subplots_adjust(wspace=0.3)\n",
    "#plt.savefig('../Figures_BoxPlot_Hyper/Precision_at_5_hyperparametertuning.png', format='png', dpi=200, bbox_inches = 'tight',\n",
    "    #pad_inches = 0.1)\n",
    "plt.show()"
   ]
  },
  {
   "cell_type": "code",
   "execution_count": null,
   "metadata": {},
   "outputs": [],
   "source": [
    "import matplotlib.pyplot as plt\n",
    "fig1, axs1 = plt.subplots(1, 3, figsize=(12, 7))\n",
    "valueToCollect = 'R@5'\n",
    "verdier = [alsScores[valueToCollect],bprScores[valueToCollect],lmfScores[valueToCollect]]\n",
    "navn = ['ALS', 'BPR', 'LMF']\n",
    "for index, ax in enumerate(axs1):\n",
    "    ax.boxplot(verdier[index])\n",
    "    ax.set_xlabel(f'{navn[index]}')\n",
    "    ax.set_xticklabels([])\n",
    "    ax.set_ylim([0,0.025])\n",
    "    ax.set_ylabel(valueToCollect)\n",
    "\n",
    "fig1.subplots_adjust(wspace=0.3)\n",
    "#plt.savefig('../Figures_BoxPlot_Hyper/Recall_at_5_hyperparametertuning.png', format='png', dpi=200, bbox_inches = 'tight',\n",
    "    #pad_inches = 0.1)\n",
    "plt.show()"
   ]
  },
  {
   "cell_type": "code",
   "execution_count": null,
   "metadata": {},
   "outputs": [],
   "source": [
    "import matplotlib.pyplot as plt\n",
    "fig1, axs1 = plt.subplots(1, 3, figsize=(12, 7))\n",
    "valueToCollect = 'TAP@5'\n",
    "verdier = [alsScores[valueToCollect],bprScores[valueToCollect],lmfScores[valueToCollect]]\n",
    "navn = ['ALS', 'BPR', 'LMF']\n",
    "for index, ax in enumerate(axs1):\n",
    "    ax.boxplot(verdier[index])\n",
    "    ax.set_xlabel(f'{navn[index]}')\n",
    "    ax.set_xticklabels([])\n",
    "    ax.set_ylim([0,0.25])\n",
    "    ax.set_ylabel('MAP@5')\n",
    "\n",
    "fig1.subplots_adjust(wspace=0.3)\n",
    "#plt.savefig('../Figures_BoxPlot_Hyper/MeanAveragePrecision_at_5_hyperparametertuning.png', format='png', dpi=200, bbox_inches = 'tight',\n",
    "    #pad_inches = 0.1)\n",
    "plt.show()"
   ]
  },
  {
   "cell_type": "code",
   "execution_count": null,
   "metadata": {},
   "outputs": [],
   "source": [
    "import matplotlib.pyplot as plt\n",
    "fig1, axs1 = plt.subplots(1, 3, figsize=(12, 7))\n",
    "valueToCollect = 'NDCG@5'\n",
    "verdier = [alsScores[valueToCollect],bprScores[valueToCollect],lmfScores[valueToCollect]]\n",
    "navn = ['ALS', 'BPR', 'LMF']\n",
    "for index, ax in enumerate(axs1):\n",
    "    ax.boxplot(verdier[index])\n",
    "    ax.set_xlabel(f'{navn[index]}')\n",
    "    ax.set_xticklabels([])\n",
    "    ax.set_ylim([0,0.35])\n",
    "    ax.set_ylabel(valueToCollect)\n",
    "\n",
    "fig1.subplots_adjust(wspace=0.3)\n",
    "#plt.savefig('../Figures_BoxPlot_Hyper/NDCG_at_5_hyperparametertuning.png', format='png', dpi=200, bbox_inches = 'tight',\n",
    "    #pad_inches = 0.1)\n",
    "plt.show()"
   ]
  },
  {
   "cell_type": "code",
   "execution_count": null,
   "metadata": {},
   "outputs": [],
   "source": [
    "import matplotlib.pyplot as plt\n",
    "fig1, axs1 = plt.subplots(1, 3, figsize=(12, 7))\n",
    "valueToCollect = 'ROC_AUC'\n",
    "verdier = [alsScores[valueToCollect],bprScores[valueToCollect],lmfScores[valueToCollect]]\n",
    "navn = ['ALS', 'BPR', 'LMF']\n",
    "for index, ax in enumerate(axs1):\n",
    "    ax.boxplot(verdier[index])\n",
    "    ax.set_xlabel(f'{navn[index]}')\n",
    "    ax.set_xticklabels([])\n",
    "    ax.set_ylim([0,1.0])\n",
    "    ax.set_ylabel(valueToCollect)#, fontsize=12\n",
    "\n",
    "fig1.subplots_adjust(wspace=0.3)\n",
    "#plt.savefig('../Figures_BoxPlot_Hyper/ROC_AUC_at_5_hyperparametertuning.png', format='png', dpi=200, bbox_inches = 'tight',\n",
    "    #pad_inches = 0.1)\n",
    "plt.show()"
   ]
  },
  {
   "cell_type": "code",
   "execution_count": null,
   "metadata": {},
   "outputs": [],
   "source": [
    "import matplotlib.pyplot as plt\n",
    "fig1, axs1 = plt.subplots(1, 3, figsize=(12, 7))\n",
    "valueToCollect = 'PR_AUC'\n",
    "verdier = [alsScores[valueToCollect],bprScores[valueToCollect],lmfScores[valueToCollect]]\n",
    "navn = ['ALS', 'BPR', 'LMF']\n",
    "for index, ax in enumerate(axs1):\n",
    "    ax.boxplot(verdier[index])\n",
    "    ax.set_xlabel(f'{navn[index]}')\n",
    "    ax.set_xticklabels([])\n",
    "    ax.set_ylim([0,0.25])\n",
    "    ax.set_ylabel(valueToCollect)\n",
    "\n",
    "fig1.subplots_adjust(wspace=0.3)\n",
    "#plt.savefig('../Figures_BoxPlot_Hyper/PR_AUC_at_5_hyperparametertuning.png', format='png', dpi=200, bbox_inches = 'tight',\n",
    "    #pad_inches = 0.1)\n",
    "plt.show()"
   ]
  }
 ],
 "metadata": {
  "language_info": {
   "name": "python"
  },
  "orig_nbformat": 4
 },
 "nbformat": 4,
 "nbformat_minor": 2
}
